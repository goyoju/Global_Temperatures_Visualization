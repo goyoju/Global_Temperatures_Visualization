{
 "cells": [
  {
   "cell_type": "markdown",
   "id": "764710db",
   "metadata": {},
   "source": [
    "# Global Temperatures by Country ( Updated )\n",
    "## by Junyoung Seo\n",
    "\n",
    "Dataset from [Kaggle](https://www.kaggle.com/datasets/berkeleyearth/climate-change-earth-surface-temperature-data/data)\n",
    "\n",
    "This updated version automatically displays visualizations of global temperature data, cycling through each year's data every one second. This feature allows users to observe the historical trends of temperature changes across different countries and track the overall change in average temperature over time."
   ]
  },
  {
   "cell_type": "code",
   "execution_count": 34,
   "id": "59e8e01c",
   "metadata": {},
   "outputs": [
    {
     "data": {
      "text/html": [
       "\n",
       "        <iframe\n",
       "            width=\"100%\"\n",
       "            height=\"650\"\n",
       "            src=\"http://127.0.0.1:8051/\"\n",
       "            frameborder=\"0\"\n",
       "            allowfullscreen\n",
       "            \n",
       "        ></iframe>\n",
       "        "
      ],
      "text/plain": [
       "<IPython.lib.display.IFrame at 0x13a5197d0>"
      ]
     },
     "metadata": {},
     "output_type": "display_data"
    }
   ],
   "source": [
    "from dash import Dash, html, dcc, Input, Output, exceptions\n",
    "import pandas as pd\n",
    "import plotly.express as px\n",
    "\n",
    "#reading csv file\n",
    "df = pd.read_csv('GlobalLandTemperaturesByCountry.csv')\n",
    "df['dt'] = pd.to_datetime(df['dt'])\n",
    "df['year'] = df['dt'].dt.year\n",
    "\n",
    "#selecting only after 1900\n",
    "df = df[df['year'] >= 1900]\n",
    "\n",
    "#creating a new dataframe with each countries average temperature by year.\n",
    "df_avg = df.groupby(['Country', 'year'])['AverageTemperature'].mean().reset_index()\n",
    "\n",
    "#creating the graphs\n",
    "app = Dash('graph_with_timer')\n",
    "\n",
    "#layout\n",
    "app.layout = html.Div([\n",
    "    dcc.Graph(id='average_temp_graph'),\n",
    "    dcc.Slider(\n",
    "        id='year_slider',\n",
    "        min=1900,    #start with 1900\n",
    "        max=df_avg['year'].max(),\n",
    "        value=1900,\n",
    "        marks={str(year): str(year) for year in range(1900, df_avg['year'].max()+1, 20)},   #marks by 20 years\n",
    "        step=1\n",
    "    ),\n",
    "    dcc.Interval(\n",
    "        id='timer_interval',\n",
    "        interval=1000,  #update in every 1 second\n",
    "    )\n",
    "])\n",
    "\n",
    "@app.callback(\n",
    "    [Output('average_temp_graph', 'figure'),   #updating the graph\n",
    "     Output('year_slider', 'value')],          #updating the slider too\n",
    "    [Input('timer_interval', 'n_intervals')]  #automatically changing by every 1 second\n",
    ")\n",
    "\n",
    "def update_graph(n_intervals):\n",
    "    if n_intervals is None:\n",
    "        raise exceptions.PreventUpdate  #preventing the update if number of interval is none\n",
    "        \n",
    "        \n",
    "    #calculating current year with number of intervals\n",
    "    year = 1900 + n_intervals\n",
    "    \n",
    "    #creating new datafram with the values of average temperature of each countries in selected year.\n",
    "    slider_df = df_avg[df_avg['year'] == year]\n",
    "    \n",
    "    #finding top 10 countries of average temperature\n",
    "    top_10_countries = slider_df.nlargest(10, 'AverageTemperature')\n",
    "\n",
    "    #creating the figure\n",
    "    graph = px.bar(top_10_countries,\n",
    "                   y='Country',\n",
    "                   x='AverageTemperature',\n",
    "                   color='AverageTemperature',   #chaing colors by the value of temperature\n",
    "                   labels={'AverageTemperature': 'Average Temperature (°C)'},\n",
    "                   title=f'Global Average Temperatures in {year}',\n",
    "                   orientation='h',   #making the graph horizontal for the better visualization\n",
    "                   color_continuous_scale=\"reds\"   #setting red as a base color\n",
    "                  )\n",
    "    \n",
    "    #fliping the graph upside down\n",
    "    graph.update_yaxes(autorange=\"reversed\"\n",
    "                      )\n",
    "\n",
    "    return graph, year  #return the current year and the graph\n",
    "\n",
    "if __name__ == '__main__':\n",
    "    app.run_server(debug=True, port=8051)"
   ]
  },
  {
   "cell_type": "code",
   "execution_count": null,
   "id": "12e702a7",
   "metadata": {},
   "outputs": [],
   "source": []
  }
 ],
 "metadata": {
  "kernelspec": {
   "display_name": "Python 3 (ipykernel)",
   "language": "python",
   "name": "python3"
  },
  "language_info": {
   "codemirror_mode": {
    "name": "ipython",
    "version": 3
   },
   "file_extension": ".py",
   "mimetype": "text/x-python",
   "name": "python",
   "nbconvert_exporter": "python",
   "pygments_lexer": "ipython3",
   "version": "3.11.4"
  }
 },
 "nbformat": 4,
 "nbformat_minor": 5
}
